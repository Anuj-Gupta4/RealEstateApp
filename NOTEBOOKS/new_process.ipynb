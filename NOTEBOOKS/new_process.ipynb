{
 "cells": [
  {
   "cell_type": "code",
   "execution_count": 1,
   "id": "aeccaf5b",
   "metadata": {},
   "outputs": [],
   "source": [
    "import pandas as pd\n",
    "import re\n",
    "import os\n",
    "import matplotlib as plt\n",
    "import numpy as np\n",
    "import seaborn as sns\n",
    "import warnings\n",
    "warnings.filterwarnings('ignore')"
   ]
  },
  {
   "cell_type": "code",
   "execution_count": 2,
   "id": "b79b6477",
   "metadata": {},
   "outputs": [
    {
     "data": {
      "text/html": [
       "<div>\n",
       "<style scoped>\n",
       "    .dataframe tbody tr th:only-of-type {\n",
       "        vertical-align: middle;\n",
       "    }\n",
       "\n",
       "    .dataframe tbody tr th {\n",
       "        vertical-align: top;\n",
       "    }\n",
       "\n",
       "    .dataframe thead th {\n",
       "        text-align: right;\n",
       "    }\n",
       "</style>\n",
       "<table border=\"1\" class=\"dataframe\">\n",
       "  <thead>\n",
       "    <tr style=\"text-align: right;\">\n",
       "      <th></th>\n",
       "      <th>Address</th>\n",
       "      <th>City</th>\n",
       "      <th>Price</th>\n",
       "      <th>Bedroom</th>\n",
       "      <th>Bathroom</th>\n",
       "      <th>Floors</th>\n",
       "      <th>Parking</th>\n",
       "      <th>Face</th>\n",
       "      <th>Year</th>\n",
       "      <th>Area</th>\n",
       "      <th>Road Width</th>\n",
       "      <th>Road Type</th>\n",
       "      <th>Build Area</th>\n",
       "      <th>Amenities</th>\n",
       "      <th>Pricepersqft</th>\n",
       "    </tr>\n",
       "  </thead>\n",
       "  <tbody>\n",
       "    <tr>\n",
       "      <th>1682</th>\n",
       "      <td>Other</td>\n",
       "      <td>Others</td>\n",
       "      <td>59000000</td>\n",
       "      <td>5</td>\n",
       "      <td>2</td>\n",
       "      <td>2.0</td>\n",
       "      <td>7</td>\n",
       "      <td>South</td>\n",
       "      <td>2074.0</td>\n",
       "      <td>18139.250</td>\n",
       "      <td>12.0</td>\n",
       "      <td>None</td>\n",
       "      <td>18139.250</td>\n",
       "      <td>13</td>\n",
       "      <td>3252.615185</td>\n",
       "    </tr>\n",
       "    <tr>\n",
       "      <th>1683</th>\n",
       "      <td>Other</td>\n",
       "      <td>Lalitpur</td>\n",
       "      <td>6500000</td>\n",
       "      <td>4</td>\n",
       "      <td>3</td>\n",
       "      <td>3.0</td>\n",
       "      <td>5</td>\n",
       "      <td>North</td>\n",
       "      <td>2074.0</td>\n",
       "      <td>10267.500</td>\n",
       "      <td>30.0</td>\n",
       "      <td>None</td>\n",
       "      <td>10267.500</td>\n",
       "      <td>13</td>\n",
       "      <td>633.065498</td>\n",
       "    </tr>\n",
       "    <tr>\n",
       "      <th>1684</th>\n",
       "      <td>Sitapaila</td>\n",
       "      <td>Kathmandu</td>\n",
       "      <td>12000000</td>\n",
       "      <td>4</td>\n",
       "      <td>2</td>\n",
       "      <td>2.0</td>\n",
       "      <td>1</td>\n",
       "      <td>North East</td>\n",
       "      <td>2074.0</td>\n",
       "      <td>855.625</td>\n",
       "      <td>13.0</td>\n",
       "      <td>None</td>\n",
       "      <td>855.625</td>\n",
       "      <td>4</td>\n",
       "      <td>14024.835646</td>\n",
       "    </tr>\n",
       "    <tr>\n",
       "      <th>1685</th>\n",
       "      <td>Budhanilkantha</td>\n",
       "      <td>Kathmandu</td>\n",
       "      <td>27000000</td>\n",
       "      <td>5</td>\n",
       "      <td>3</td>\n",
       "      <td>2.0</td>\n",
       "      <td>1</td>\n",
       "      <td>East</td>\n",
       "      <td>2071.0</td>\n",
       "      <td>2738.000</td>\n",
       "      <td>12.0</td>\n",
       "      <td>None</td>\n",
       "      <td>2738.000</td>\n",
       "      <td>4</td>\n",
       "      <td>9861.212564</td>\n",
       "    </tr>\n",
       "    <tr>\n",
       "      <th>1686</th>\n",
       "      <td>Baluwatar</td>\n",
       "      <td>Kathmandu</td>\n",
       "      <td>72500000</td>\n",
       "      <td>5</td>\n",
       "      <td>2</td>\n",
       "      <td>3.0</td>\n",
       "      <td>5</td>\n",
       "      <td>East</td>\n",
       "      <td>2074.0</td>\n",
       "      <td>4449.250</td>\n",
       "      <td>12.0</td>\n",
       "      <td>None</td>\n",
       "      <td>4449.250</td>\n",
       "      <td>5</td>\n",
       "      <td>16294.881160</td>\n",
       "    </tr>\n",
       "  </tbody>\n",
       "</table>\n",
       "</div>"
      ],
      "text/plain": [
       "             Address       City     Price  Bedroom  Bathroom  Floors  Parking  \\\n",
       "1682           Other     Others  59000000        5         2     2.0        7   \n",
       "1683           Other   Lalitpur   6500000        4         3     3.0        5   \n",
       "1684       Sitapaila  Kathmandu  12000000        4         2     2.0        1   \n",
       "1685  Budhanilkantha  Kathmandu  27000000        5         3     2.0        1   \n",
       "1686       Baluwatar  Kathmandu  72500000        5         2     3.0        5   \n",
       "\n",
       "            Face    Year       Area  Road Width Road Type  Build Area  \\\n",
       "1682       South  2074.0  18139.250        12.0      None   18139.250   \n",
       "1683       North  2074.0  10267.500        30.0      None   10267.500   \n",
       "1684  North East  2074.0    855.625        13.0      None     855.625   \n",
       "1685        East  2071.0   2738.000        12.0      None    2738.000   \n",
       "1686        East  2074.0   4449.250        12.0      None    4449.250   \n",
       "\n",
       "      Amenities  Pricepersqft  \n",
       "1682         13   3252.615185  \n",
       "1683         13    633.065498  \n",
       "1684          4  14024.835646  \n",
       "1685          4   9861.212564  \n",
       "1686          5  16294.881160  "
      ]
     },
     "execution_count": 2,
     "metadata": {},
     "output_type": "execute_result"
    }
   ],
   "source": [
    "df= pd.read_csv('new_cleaned_data.csv')\n",
    "df.tail()"
   ]
  },
  {
   "cell_type": "code",
   "execution_count": 3,
   "id": "bac9c4ce",
   "metadata": {},
   "outputs": [],
   "source": [
    "df = df.drop(['Pricepersqft'],axis='columns')"
   ]
  },
  {
   "cell_type": "code",
   "execution_count": 4,
   "id": "d0589769",
   "metadata": {},
   "outputs": [
    {
     "data": {
      "text/plain": [
       "(1687, 14)"
      ]
     },
     "execution_count": 4,
     "metadata": {},
     "output_type": "execute_result"
    }
   ],
   "source": [
    "df.shape"
   ]
  },
  {
   "cell_type": "code",
   "execution_count": 5,
   "id": "b8ce1810",
   "metadata": {},
   "outputs": [
    {
     "data": {
      "text/plain": [
       "<AxesSubplot:xlabel='Price'>"
      ]
     },
     "execution_count": 5,
     "metadata": {},
     "output_type": "execute_result"
    },
    {
     "data": {
      "image/png": "[encoded data removed]",
      "text/plain": [
       "<Figure size 432x288 with 1 Axes>"
      ]
     },
     "metadata": {
      "needs_background": "light"
     },
     "output_type": "display_data"
    }
   ],
   "source": [
    "import seaborn as sns\n",
    "\n",
    "# Create boxplot for Price column\n",
    "sns.boxplot(x=df['Price'])\n"
   ]
  },
  {
   "cell_type": "code",
   "execution_count": 6,
   "id": "67dba417",
   "metadata": {},
   "outputs": [
    {
     "data": {
      "text/plain": [
       "array(['Kathmandu', 'Pokhara', 'Bhaktapur', 'Lalitpur', 'Chitwan',\n",
       "       'Others', 'Dharan', 'Makwanpur', 'Nawalparasi'], dtype=object)"
      ]
     },
     "execution_count": 6,
     "metadata": {},
     "output_type": "execute_result"
    }
   ],
   "source": [
    "df.City.unique()"
   ]
  },
  {
   "cell_type": "code",
   "execution_count": 7,
   "id": "3512341f",
   "metadata": {},
   "outputs": [
    {
     "data": {
      "text/plain": [
       "<AxesSubplot:xlabel='Price', ylabel='Address'>"
      ]
     },
     "execution_count": 7,
     "metadata": {},
     "output_type": "execute_result"
    },
    {
     "data": {
      "image/png": "[encoded data removed]",
      "text/plain": [
       "<Figure size 432x288 with 1 Axes>"
      ]
     },
     "metadata": {
      "needs_background": "light"
     },
     "output_type": "display_data"
    }
   ],
   "source": [
    "sns.boxplot(y=\"Address\", x=\"Price\", data=df)"
   ]
  },
  {
   "cell_type": "code",
   "execution_count": 8,
   "id": "caf33ee2",
   "metadata": {},
   "outputs": [
    {
     "data": {
      "text/html": [
       "<div>\n",
       "<style scoped>\n",
       "    .dataframe tbody tr th:only-of-type {\n",
       "        vertical-align: middle;\n",
       "    }\n",
       "\n",
       "    .dataframe tbody tr th {\n",
       "        vertical-align: top;\n",
       "    }\n",
       "\n",
       "    .dataframe thead th {\n",
       "        text-align: right;\n",
       "    }\n",
       "</style>\n",
       "<table border=\"1\" class=\"dataframe\">\n",
       "  <thead>\n",
       "    <tr style=\"text-align: right;\">\n",
       "      <th></th>\n",
       "      <th>Address</th>\n",
       "      <th>City</th>\n",
       "      <th>Price</th>\n",
       "      <th>Bedroom</th>\n",
       "      <th>Bathroom</th>\n",
       "      <th>Floors</th>\n",
       "      <th>Parking</th>\n",
       "      <th>Face</th>\n",
       "      <th>Year</th>\n",
       "      <th>Area</th>\n",
       "      <th>Road Width</th>\n",
       "      <th>Road Type</th>\n",
       "      <th>Build Area</th>\n",
       "      <th>Amenities</th>\n",
       "    </tr>\n",
       "  </thead>\n",
       "  <tbody>\n",
       "    <tr>\n",
       "      <th>0</th>\n",
       "      <td>Budhanilkantha</td>\n",
       "      <td>Kathmandu</td>\n",
       "      <td>90000000</td>\n",
       "      <td>6</td>\n",
       "      <td>3</td>\n",
       "      <td>2.0</td>\n",
       "      <td>10</td>\n",
       "      <td>West</td>\n",
       "      <td>2073.0</td>\n",
       "      <td>5476.00</td>\n",
       "      <td>20.0</td>\n",
       "      <td>Blacktopped</td>\n",
       "      <td>98568.00</td>\n",
       "      <td>16</td>\n",
       "    </tr>\n",
       "    <tr>\n",
       "      <th>1</th>\n",
       "      <td>Budhanilkantha</td>\n",
       "      <td>Kathmandu</td>\n",
       "      <td>80000000</td>\n",
       "      <td>5</td>\n",
       "      <td>3</td>\n",
       "      <td>2.0</td>\n",
       "      <td>9</td>\n",
       "      <td>East</td>\n",
       "      <td>2073.0</td>\n",
       "      <td>7187.25</td>\n",
       "      <td>20.0</td>\n",
       "      <td>Blacktopped</td>\n",
       "      <td>7187.25</td>\n",
       "      <td>15</td>\n",
       "    </tr>\n",
       "    <tr>\n",
       "      <th>2</th>\n",
       "      <td>Dhapasi</td>\n",
       "      <td>Kathmandu</td>\n",
       "      <td>70000000</td>\n",
       "      <td>5</td>\n",
       "      <td>3</td>\n",
       "      <td>2.0</td>\n",
       "      <td>12</td>\n",
       "      <td>East</td>\n",
       "      <td>2071.0</td>\n",
       "      <td>5818.25</td>\n",
       "      <td>20.0</td>\n",
       "      <td>Blacktopped</td>\n",
       "      <td>55102.25</td>\n",
       "      <td>16</td>\n",
       "    </tr>\n",
       "    <tr>\n",
       "      <th>3</th>\n",
       "      <td>Baluwatar</td>\n",
       "      <td>Kathmandu</td>\n",
       "      <td>130000000</td>\n",
       "      <td>6</td>\n",
       "      <td>4</td>\n",
       "      <td>3.0</td>\n",
       "      <td>9</td>\n",
       "      <td>West</td>\n",
       "      <td>2017.0</td>\n",
       "      <td>7067.50</td>\n",
       "      <td>20.0</td>\n",
       "      <td>Blacktopped</td>\n",
       "      <td>7067.50</td>\n",
       "      <td>16</td>\n",
       "    </tr>\n",
       "    <tr>\n",
       "      <th>4</th>\n",
       "      <td>Golfutar</td>\n",
       "      <td>Kathmandu</td>\n",
       "      <td>100000000</td>\n",
       "      <td>6</td>\n",
       "      <td>3</td>\n",
       "      <td>2.0</td>\n",
       "      <td>10</td>\n",
       "      <td>East</td>\n",
       "      <td>2070.0</td>\n",
       "      <td>13792.75</td>\n",
       "      <td>20.0</td>\n",
       "      <td>Blacktopped</td>\n",
       "      <td>13792.75</td>\n",
       "      <td>16</td>\n",
       "    </tr>\n",
       "  </tbody>\n",
       "</table>\n",
       "</div>"
      ],
      "text/plain": [
       "          Address       City      Price  Bedroom  Bathroom  Floors  Parking  \\\n",
       "0  Budhanilkantha  Kathmandu   90000000        6         3     2.0       10   \n",
       "1  Budhanilkantha  Kathmandu   80000000        5         3     2.0        9   \n",
       "2         Dhapasi  Kathmandu   70000000        5         3     2.0       12   \n",
       "3       Baluwatar  Kathmandu  130000000        6         4     3.0        9   \n",
       "4        Golfutar  Kathmandu  100000000        6         3     2.0       10   \n",
       "\n",
       "   Face    Year      Area  Road Width     Road Type  Build Area  Amenities  \n",
       "0  West  2073.0   5476.00        20.0   Blacktopped    98568.00         16  \n",
       "1  East  2073.0   7187.25        20.0   Blacktopped     7187.25         15  \n",
       "2  East  2071.0   5818.25        20.0   Blacktopped    55102.25         16  \n",
       "3  West  2017.0   7067.50        20.0   Blacktopped     7067.50         16  \n",
       "4  East  2070.0  13792.75        20.0   Blacktopped    13792.75         16  "
      ]
     },
     "execution_count": 8,
     "metadata": {},
     "output_type": "execute_result"
    }
   ],
   "source": [
    "df_kathmandu = df[df['City'] == 'Kathmandu']\n",
    "df_pokhara = df[df['City'] == 'Pokhara']\n",
    "df_bhaktapur = df[df['City'] == 'Bhaktapur']\n",
    "df_lalitpur = df[df['City'] == 'Lalitpur']\n",
    "df_chitwan = df[df['City'] == 'Chitwan']\n",
    "df_dharan = df[df['City'] == 'Dharan']\n",
    "df_makwanpur = df[df['City'] == 'Makwanpur']\n",
    "df_nawalparasi = df[df['City'] == 'Nawalparasi']\n",
    "df_others = df[df['City'] == 'Others']\n",
    "df_kathmandu.head()\n"
   ]
  },
  {
   "cell_type": "code",
   "execution_count": 9,
   "id": "735fbf09",
   "metadata": {},
   "outputs": [
    {
     "data": {
      "text/plain": [
       "<AxesSubplot:xlabel='Price'>"
      ]
     },
     "execution_count": 9,
     "metadata": {},
     "output_type": "execute_result"
    },
    {
     "data": {
      "image/png": "[encoded data removed]",
      "text/plain": [
       "<Figure size 432x288 with 1 Axes>"
      ]
     },
     "metadata": {
      "needs_background": "light"
     },
     "output_type": "display_data"
    }
   ],
   "source": [
    "sns.boxplot(x=df_kathmandu['Price'])"
   ]
  },
  {
   "cell_type": "code",
   "execution_count": 10,
   "id": "f4a2adbf",
   "metadata": {},
   "outputs": [
    {
     "data": {
      "text/plain": [
       "(1176, 14)"
      ]
     },
     "execution_count": 10,
     "metadata": {},
     "output_type": "execute_result"
    }
   ],
   "source": [
    "df_kathmandu = df_kathmandu[(df_kathmandu.Price< 125000000)]\n",
    "df_kathmandu.shape"
   ]
  },
  {
   "cell_type": "code",
   "execution_count": 11,
   "id": "7ab6173f",
   "metadata": {},
   "outputs": [
    {
     "data": {
      "text/plain": [
       "<AxesSubplot:xlabel='Price'>"
      ]
     },
     "execution_count": 11,
     "metadata": {},
     "output_type": "execute_result"
    },
    {
     "data": {
      "image/png": "[encoded data removed]",
      "text/plain": [
       "<Figure size 432x288 with 1 Axes>"
      ]
     },
     "metadata": {
      "needs_background": "light"
     },
     "output_type": "display_data"
    }
   ],
   "source": [
    "sns.boxplot(x=df_pokhara['Price'])"
   ]
  },
  {
   "cell_type": "code",
   "execution_count": 12,
   "id": "81c5ae18",
   "metadata": {},
   "outputs": [
    {
     "data": {
      "text/plain": [
       "(23, 14)"
      ]
     },
     "execution_count": 12,
     "metadata": {},
     "output_type": "execute_result"
    }
   ],
   "source": [
    "df_pokhara = df_pokhara[(df_pokhara.Price< 100000000)]\n",
    "df_pokhara.shape"
   ]
  },
  {
   "cell_type": "code",
   "execution_count": 13,
   "id": "5a9d2670",
   "metadata": {},
   "outputs": [
    {
     "data": {
      "text/plain": [
       "<AxesSubplot:xlabel='Price'>"
      ]
     },
     "execution_count": 13,
     "metadata": {},
     "output_type": "execute_result"
    },
    {
     "data": {
      "image/png": "[encoded data removed]",
      "text/plain": [
       "<Figure size 432x288 with 1 Axes>"
      ]
     },
     "metadata": {
      "needs_background": "light"
     },
     "output_type": "display_data"
    }
   ],
   "source": [
    "sns.boxplot(x=df_bhaktapur['Price'])"
   ]
  },
  {
   "cell_type": "code",
   "execution_count": 14,
   "id": "06139f03",
   "metadata": {},
   "outputs": [
    {
     "data": {
      "text/plain": [
       "(67, 14)"
      ]
     },
     "execution_count": 14,
     "metadata": {},
     "output_type": "execute_result"
    }
   ],
   "source": [
    "df_bhaktapur = df_bhaktapur[(df_bhaktapur.Price< 50000000)]\n",
    "df_bhaktapur.shape"
   ]
  },
  {
   "cell_type": "code",
   "execution_count": 15,
   "id": "3bd8f78d",
   "metadata": {},
   "outputs": [
    {
     "data": {
      "text/plain": [
       "<AxesSubplot:xlabel='Price'>"
      ]
     },
     "execution_count": 15,
     "metadata": {},
     "output_type": "execute_result"
    },
    {
     "data": {
      "image/png": "[encoded data removed]",
      "text/plain": [
       "<Figure size 432x288 with 1 Axes>"
      ]
     },
     "metadata": {
      "needs_background": "light"
     },
     "output_type": "display_data"
    }
   ],
   "source": [
    "sns.boxplot(x=df_lalitpur['Price'])"
   ]
  },
  {
   "cell_type": "code",
   "execution_count": 16,
   "id": "9da09ee8",
   "metadata": {},
   "outputs": [
    {
     "data": {
      "text/plain": [
       "(273, 14)"
      ]
     },
     "execution_count": 16,
     "metadata": {},
     "output_type": "execute_result"
    }
   ],
   "source": [
    "df_lalitpur = df_lalitpur[(df_lalitpur.Price< 50000000)]\n",
    "df_lalitpur.shape"
   ]
  },
  {
   "cell_type": "code",
   "execution_count": 17,
   "id": "f5a3db60",
   "metadata": {},
   "outputs": [
    {
     "data": {
      "text/plain": [
       "<AxesSubplot:xlabel='Price'>"
      ]
     },
     "execution_count": 17,
     "metadata": {},
     "output_type": "execute_result"
    },
    {
     "data": {
      "image/png": "[encoded data removed]",
      "text/plain": [
       "<Figure size 432x288 with 1 Axes>"
      ]
     },
     "metadata": {
      "needs_background": "light"
     },
     "output_type": "display_data"
    }
   ],
   "source": [
    "sns.boxplot(x=df_chitwan['Price'])"
   ]
  },
  {
   "cell_type": "code",
   "execution_count": 18,
   "id": "5861717e",
   "metadata": {},
   "outputs": [
    {
     "data": {
      "text/plain": [
       "(20, 14)"
      ]
     },
     "execution_count": 18,
     "metadata": {},
     "output_type": "execute_result"
    }
   ],
   "source": [
    "df_chitwan = df_chitwan[(df_chitwan.Price< 26000000)]\n",
    "df_chitwan.shape"
   ]
  },
  {
   "cell_type": "code",
   "execution_count": 19,
   "id": "7c8a4184",
   "metadata": {},
   "outputs": [
    {
     "data": {
      "text/plain": [
       "<AxesSubplot:xlabel='Price'>"
      ]
     },
     "execution_count": 19,
     "metadata": {},
     "output_type": "execute_result"
    },
    {
     "data": {
      "image/png": "[encoded data removed]",
      "text/plain": [
       "<Figure size 432x288 with 1 Axes>"
      ]
     },
     "metadata": {
      "needs_background": "light"
     },
     "output_type": "display_data"
    }
   ],
   "source": [
    "sns.boxplot(x=df_dharan['Price'])"
   ]
  },
  {
   "cell_type": "code",
   "execution_count": 20,
   "id": "a25c0f2f",
   "metadata": {},
   "outputs": [
    {
     "data": {
      "text/plain": [
       "(10, 14)"
      ]
     },
     "execution_count": 20,
     "metadata": {},
     "output_type": "execute_result"
    }
   ],
   "source": [
    "# df_dharan = df_dharan[(df_dharan.Price< 100000000)]\n",
    "df_dharan.shape"
   ]
  },
  {
   "cell_type": "code",
   "execution_count": 21,
   "id": "795c4b6e",
   "metadata": {},
   "outputs": [
    {
     "data": {
      "text/plain": [
       "<AxesSubplot:xlabel='Price'>"
      ]
     },
     "execution_count": 21,
     "metadata": {},
     "output_type": "execute_result"
    },
    {
     "data": {
      "image/png": "[encoded data removed]",
      "text/plain": [
       "<Figure size 432x288 with 1 Axes>"
      ]
     },
     "metadata": {
      "needs_background": "light"
     },
     "output_type": "display_data"
    }
   ],
   "source": [
    "sns.boxplot(x=df_nawalparasi['Price'])"
   ]
  },
  {
   "cell_type": "code",
   "execution_count": 22,
   "id": "e6877204",
   "metadata": {},
   "outputs": [
    {
     "data": {
      "text/plain": [
       "(11, 14)"
      ]
     },
     "execution_count": 22,
     "metadata": {},
     "output_type": "execute_result"
    }
   ],
   "source": [
    "# df_nawalparasi = df_nawalparasi[(df_nawalparasi.Price< 100000000)]\n",
    "df_nawalparasi.shape"
   ]
  },
  {
   "cell_type": "code",
   "execution_count": 23,
   "id": "d7039c61",
   "metadata": {},
   "outputs": [
    {
     "data": {
      "text/plain": [
       "<AxesSubplot:xlabel='Price'>"
      ]
     },
     "execution_count": 23,
     "metadata": {},
     "output_type": "execute_result"
    },
    {
     "data": {
      "image/png": "[encoded data removed]",
      "text/plain": [
       "<Figure size 432x288 with 1 Axes>"
      ]
     },
     "metadata": {
      "needs_background": "light"
     },
     "output_type": "display_data"
    }
   ],
   "source": [
    "sns.boxplot(x=df_makwanpur['Price'])"
   ]
  },
  {
   "cell_type": "code",
   "execution_count": 24,
   "id": "fe315206",
   "metadata": {},
   "outputs": [
    {
     "data": {
      "text/plain": [
       "(9, 14)"
      ]
     },
     "execution_count": 24,
     "metadata": {},
     "output_type": "execute_result"
    }
   ],
   "source": [
    "# df_makwanpur = df_makwanpur[(df_makwanpur.Price< 100000000)]\n",
    "df_makwanpur.shape"
   ]
  },
  {
   "cell_type": "code",
   "execution_count": 25,
   "id": "5bc0e4a1",
   "metadata": {},
   "outputs": [
    {
     "data": {
      "text/plain": [
       "<AxesSubplot:xlabel='Price'>"
      ]
     },
     "execution_count": 25,
     "metadata": {},
     "output_type": "execute_result"
    },
    {
     "data": {
      "image/png": "[encoded data removed]",
      "text/plain": [
       "<Figure size 432x288 with 1 Axes>"
      ]
     },
     "metadata": {
      "needs_background": "light"
     },
     "output_type": "display_data"
    }
   ],
   "source": [
    "sns.boxplot(x=df_others['Price'])"
   ]
  },
  {
   "cell_type": "code",
   "execution_count": 26,
   "id": "1c586cb6",
   "metadata": {},
   "outputs": [
    {
     "data": {
      "text/plain": [
       "(54, 14)"
      ]
     },
     "execution_count": 26,
     "metadata": {},
     "output_type": "execute_result"
    }
   ],
   "source": [
    "df_others = df_others[(df_others.Price< 30000000)]\n",
    "df_others.shape"
   ]
  },
  {
   "cell_type": "code",
   "execution_count": 27,
   "id": "2e20f66f",
   "metadata": {},
   "outputs": [
    {
     "data": {
      "text/plain": [
       "(1643, 14)"
      ]
     },
     "execution_count": 27,
     "metadata": {},
     "output_type": "execute_result"
    }
   ],
   "source": [
    "# Merge the new DataFrames into a single DataFrame\n",
    "merged_df = pd.concat([df_kathmandu, df_pokhara, df_bhaktapur, df_lalitpur, df_chitwan, df_dharan, df_makwanpur, df_nawalparasi, df_others])\n",
    "\n",
    "# Reset the index of the merged DataFrame\n",
    "merged_df = merged_df.reset_index(drop=True)\n",
    "merged_df.shape"
   ]
  },
  {
   "cell_type": "code",
   "execution_count": 28,
   "id": "8ee94957",
   "metadata": {},
   "outputs": [
    {
     "data": {
      "text/html": [
       "<div>\n",
       "<style scoped>\n",
       "    .dataframe tbody tr th:only-of-type {\n",
       "        vertical-align: middle;\n",
       "    }\n",
       "\n",
       "    .dataframe tbody tr th {\n",
       "        vertical-align: top;\n",
       "    }\n",
       "\n",
       "    .dataframe thead th {\n",
       "        text-align: right;\n",
       "    }\n",
       "</style>\n",
       "<table border=\"1\" class=\"dataframe\">\n",
       "  <thead>\n",
       "    <tr style=\"text-align: right;\">\n",
       "      <th></th>\n",
       "      <th>Address</th>\n",
       "      <th>City</th>\n",
       "      <th>Price</th>\n",
       "      <th>Bedroom</th>\n",
       "      <th>Bathroom</th>\n",
       "      <th>Floors</th>\n",
       "      <th>Parking</th>\n",
       "      <th>Face</th>\n",
       "      <th>Year</th>\n",
       "      <th>Area</th>\n",
       "      <th>Road Width</th>\n",
       "      <th>Road Type</th>\n",
       "      <th>Build Area</th>\n",
       "      <th>Amenities</th>\n",
       "    </tr>\n",
       "  </thead>\n",
       "  <tbody>\n",
       "    <tr>\n",
       "      <th>0</th>\n",
       "      <td>Budhanilkantha</td>\n",
       "      <td>Kathmandu</td>\n",
       "      <td>90000000</td>\n",
       "      <td>6</td>\n",
       "      <td>3</td>\n",
       "      <td>2.0</td>\n",
       "      <td>10</td>\n",
       "      <td>West</td>\n",
       "      <td>2073.0</td>\n",
       "      <td>5476.000</td>\n",
       "      <td>20.0</td>\n",
       "      <td>Blacktopped</td>\n",
       "      <td>98568.000</td>\n",
       "      <td>16</td>\n",
       "    </tr>\n",
       "    <tr>\n",
       "      <th>1</th>\n",
       "      <td>Budhanilkantha</td>\n",
       "      <td>Kathmandu</td>\n",
       "      <td>80000000</td>\n",
       "      <td>5</td>\n",
       "      <td>3</td>\n",
       "      <td>2.0</td>\n",
       "      <td>9</td>\n",
       "      <td>East</td>\n",
       "      <td>2073.0</td>\n",
       "      <td>7187.250</td>\n",
       "      <td>20.0</td>\n",
       "      <td>Blacktopped</td>\n",
       "      <td>7187.250</td>\n",
       "      <td>15</td>\n",
       "    </tr>\n",
       "    <tr>\n",
       "      <th>2</th>\n",
       "      <td>Dhapasi</td>\n",
       "      <td>Kathmandu</td>\n",
       "      <td>70000000</td>\n",
       "      <td>5</td>\n",
       "      <td>3</td>\n",
       "      <td>2.0</td>\n",
       "      <td>12</td>\n",
       "      <td>East</td>\n",
       "      <td>2071.0</td>\n",
       "      <td>5818.250</td>\n",
       "      <td>20.0</td>\n",
       "      <td>Blacktopped</td>\n",
       "      <td>55102.250</td>\n",
       "      <td>16</td>\n",
       "    </tr>\n",
       "    <tr>\n",
       "      <th>3</th>\n",
       "      <td>Golfutar</td>\n",
       "      <td>Kathmandu</td>\n",
       "      <td>100000000</td>\n",
       "      <td>6</td>\n",
       "      <td>3</td>\n",
       "      <td>2.0</td>\n",
       "      <td>10</td>\n",
       "      <td>East</td>\n",
       "      <td>2070.0</td>\n",
       "      <td>13792.750</td>\n",
       "      <td>20.0</td>\n",
       "      <td>Blacktopped</td>\n",
       "      <td>13792.750</td>\n",
       "      <td>16</td>\n",
       "    </tr>\n",
       "    <tr>\n",
       "      <th>4</th>\n",
       "      <td>Other</td>\n",
       "      <td>Kathmandu</td>\n",
       "      <td>100000000</td>\n",
       "      <td>5</td>\n",
       "      <td>6</td>\n",
       "      <td>3.0</td>\n",
       "      <td>9</td>\n",
       "      <td>East</td>\n",
       "      <td>2074.0</td>\n",
       "      <td>15043.000</td>\n",
       "      <td>13.0</td>\n",
       "      <td>Blacktopped</td>\n",
       "      <td>15043.000</td>\n",
       "      <td>16</td>\n",
       "    </tr>\n",
       "    <tr>\n",
       "      <th>...</th>\n",
       "      <td>...</td>\n",
       "      <td>...</td>\n",
       "      <td>...</td>\n",
       "      <td>...</td>\n",
       "      <td>...</td>\n",
       "      <td>...</td>\n",
       "      <td>...</td>\n",
       "      <td>...</td>\n",
       "      <td>...</td>\n",
       "      <td>...</td>\n",
       "      <td>...</td>\n",
       "      <td>...</td>\n",
       "      <td>...</td>\n",
       "      <td>...</td>\n",
       "    </tr>\n",
       "    <tr>\n",
       "      <th>1638</th>\n",
       "      <td>Other</td>\n",
       "      <td>Others</td>\n",
       "      <td>6400000</td>\n",
       "      <td>3</td>\n",
       "      <td>1</td>\n",
       "      <td>1.0</td>\n",
       "      <td>0</td>\n",
       "      <td>North</td>\n",
       "      <td>2074.0</td>\n",
       "      <td>133.350</td>\n",
       "      <td>15.0</td>\n",
       "      <td>Soil Stabilized</td>\n",
       "      <td>133.350</td>\n",
       "      <td>4</td>\n",
       "    </tr>\n",
       "    <tr>\n",
       "      <th>1639</th>\n",
       "      <td>Other</td>\n",
       "      <td>Others</td>\n",
       "      <td>2200000</td>\n",
       "      <td>0</td>\n",
       "      <td>0</td>\n",
       "      <td>3.0</td>\n",
       "      <td>0</td>\n",
       "      <td>North</td>\n",
       "      <td>2074.0</td>\n",
       "      <td>23137.000</td>\n",
       "      <td>20.0</td>\n",
       "      <td>Gravelled</td>\n",
       "      <td>23137.000</td>\n",
       "      <td>0</td>\n",
       "    </tr>\n",
       "    <tr>\n",
       "      <th>1640</th>\n",
       "      <td>Other</td>\n",
       "      <td>Others</td>\n",
       "      <td>25000000</td>\n",
       "      <td>10</td>\n",
       "      <td>4</td>\n",
       "      <td>3.0</td>\n",
       "      <td>0</td>\n",
       "      <td>East</td>\n",
       "      <td>2074.0</td>\n",
       "      <td>155.575</td>\n",
       "      <td>20.0</td>\n",
       "      <td>Gravelled</td>\n",
       "      <td>155.575</td>\n",
       "      <td>6</td>\n",
       "    </tr>\n",
       "    <tr>\n",
       "      <th>1641</th>\n",
       "      <td>Other</td>\n",
       "      <td>Others</td>\n",
       "      <td>10000000</td>\n",
       "      <td>0</td>\n",
       "      <td>0</td>\n",
       "      <td>3.0</td>\n",
       "      <td>0</td>\n",
       "      <td>East</td>\n",
       "      <td>2074.0</td>\n",
       "      <td>21305.250</td>\n",
       "      <td>25.0</td>\n",
       "      <td>None</td>\n",
       "      <td>21305.250</td>\n",
       "      <td>0</td>\n",
       "    </tr>\n",
       "    <tr>\n",
       "      <th>1642</th>\n",
       "      <td>Other</td>\n",
       "      <td>Others</td>\n",
       "      <td>350000</td>\n",
       "      <td>0</td>\n",
       "      <td>0</td>\n",
       "      <td>3.0</td>\n",
       "      <td>0</td>\n",
       "      <td>North</td>\n",
       "      <td>2074.0</td>\n",
       "      <td>5476.000</td>\n",
       "      <td>16.0</td>\n",
       "      <td>None</td>\n",
       "      <td>5476.000</td>\n",
       "      <td>0</td>\n",
       "    </tr>\n",
       "  </tbody>\n",
       "</table>\n",
       "<p>1643 rows × 14 columns</p>\n",
       "</div>"
      ],
      "text/plain": [
       "             Address       City      Price  Bedroom  Bathroom  Floors  \\\n",
       "0     Budhanilkantha  Kathmandu   90000000        6         3     2.0   \n",
       "1     Budhanilkantha  Kathmandu   80000000        5         3     2.0   \n",
       "2            Dhapasi  Kathmandu   70000000        5         3     2.0   \n",
       "3           Golfutar  Kathmandu  100000000        6         3     2.0   \n",
       "4              Other  Kathmandu  100000000        5         6     3.0   \n",
       "...              ...        ...        ...      ...       ...     ...   \n",
       "1638           Other     Others    6400000        3         1     1.0   \n",
       "1639           Other     Others    2200000        0         0     3.0   \n",
       "1640           Other     Others   25000000       10         4     3.0   \n",
       "1641           Other     Others   10000000        0         0     3.0   \n",
       "1642           Other     Others     350000        0         0     3.0   \n",
       "\n",
       "      Parking   Face    Year       Area  Road Width         Road Type  \\\n",
       "0          10   West  2073.0   5476.000        20.0       Blacktopped   \n",
       "1           9   East  2073.0   7187.250        20.0       Blacktopped   \n",
       "2          12   East  2071.0   5818.250        20.0       Blacktopped   \n",
       "3          10   East  2070.0  13792.750        20.0       Blacktopped   \n",
       "4           9   East  2074.0  15043.000        13.0       Blacktopped   \n",
       "...       ...    ...     ...        ...         ...               ...   \n",
       "1638        0  North  2074.0    133.350        15.0   Soil Stabilized   \n",
       "1639        0  North  2074.0  23137.000        20.0         Gravelled   \n",
       "1640        0   East  2074.0    155.575        20.0         Gravelled   \n",
       "1641        0   East  2074.0  21305.250        25.0              None   \n",
       "1642        0  North  2074.0   5476.000        16.0              None   \n",
       "\n",
       "      Build Area  Amenities  \n",
       "0      98568.000         16  \n",
       "1       7187.250         15  \n",
       "2      55102.250         16  \n",
       "3      13792.750         16  \n",
       "4      15043.000         16  \n",
       "...          ...        ...  \n",
       "1638     133.350          4  \n",
       "1639   23137.000          0  \n",
       "1640     155.575          6  \n",
       "1641   21305.250          0  \n",
       "1642    5476.000          0  \n",
       "\n",
       "[1643 rows x 14 columns]"
      ]
     },
     "execution_count": 28,
     "metadata": {},
     "output_type": "execute_result"
    }
   ],
   "source": [
    "merged_df"
   ]
  },
  {
   "cell_type": "code",
   "execution_count": 29,
   "id": "0e8e97ef",
   "metadata": {},
   "outputs": [
    {
     "data": {
      "text/plain": [
       "<seaborn.axisgrid.JointGrid at 0x24b1c0f2a90>"
      ]
     },
     "execution_count": 29,
     "metadata": {},
     "output_type": "execute_result"
    },
    {
     "data": {
      "image/png": "[encoded data removed]",
      "text/plain": [
       "<Figure size 432x432 with 3 Axes>"
      ]
     },
     "metadata": {
      "needs_background": "light"
     },
     "output_type": "display_data"
    }
   ],
   "source": [
    "sns.jointplot(x=merged_df[\"Area\"], y=merged_df[\"Price\"],color='red', kind='scatter')"
   ]
  },
  {
   "cell_type": "code",
   "execution_count": 30,
   "id": "358668fc",
   "metadata": {},
   "outputs": [
    {
     "data": {
      "text/plain": [
       "(1612, 14)"
      ]
     },
     "execution_count": 30,
     "metadata": {},
     "output_type": "execute_result"
    }
   ],
   "source": [
    "merged_df = merged_df[(merged_df.Area < 50000) & (merged_df.Price < 100000000)]\n",
    "# merged_df = merged_df[(merged_df.Area < 100000) & (merged_df.Price < 200000000)]\n",
    "merged_df.shape"
   ]
  },
  {
   "cell_type": "code",
   "execution_count": 31,
   "id": "618bb1c1",
   "metadata": {},
   "outputs": [
    {
     "data": {
      "text/plain": [
       "<seaborn.axisgrid.JointGrid at 0x24b1c524430>"
      ]
     },
     "execution_count": 31,
     "metadata": {},
     "output_type": "execute_result"
    },
    {
     "data": {
      "image/png": "[encoded data removed]",
      "text/plain": [
       "<Figure size 432x432 with 3 Axes>"
      ]
     },
     "metadata": {
      "needs_background": "light"
     },
     "output_type": "display_data"
    }
   ],
   "source": [
    "sns.jointplot(x=merged_df[\"Area\"], y=merged_df[\"Price\"],color='red', kind='scatter')"
   ]
  },
  {
   "cell_type": "code",
   "execution_count": 32,
   "id": "75f955e1",
   "metadata": {},
   "outputs": [
    {
     "data": {
      "text/plain": [
       "<AxesSubplot:xlabel='Bedroom'>"
      ]
     },
     "execution_count": 32,
     "metadata": {},
     "output_type": "execute_result"
    },
    {
     "data": {
      "image/png": "[encoded data removed]",
      "text/plain": [
       "<Figure size 432x288 with 1 Axes>"
      ]
     },
     "metadata": {
      "needs_background": "light"
     },
     "output_type": "display_data"
    }
   ],
   "source": [
    "sns.boxplot(x=merged_df['Bedroom'])"
   ]
  },
  {
   "cell_type": "code",
   "execution_count": 33,
   "id": "4fb62deb",
   "metadata": {},
   "outputs": [
    {
     "data": {
      "text/plain": [
       "<AxesSubplot:xlabel='Bathroom'>"
      ]
     },
     "execution_count": 33,
     "metadata": {},
     "output_type": "execute_result"
    },
    {
     "data": {
      "image/png": "[encoded data removed]",
      "text/plain": [
       "<Figure size 432x288 with 1 Axes>"
      ]
     },
     "metadata": {
      "needs_background": "light"
     },
     "output_type": "display_data"
    }
   ],
   "source": [
    "sns.boxplot(x=merged_df['Bathroom'])"
   ]
  },
  {
   "cell_type": "code",
   "execution_count": 34,
   "id": "eddb56ed",
   "metadata": {},
   "outputs": [
    {
     "data": {
      "text/plain": [
       "<AxesSubplot:xlabel='Floors'>"
      ]
     },
     "execution_count": 34,
     "metadata": {},
     "output_type": "execute_result"
    },
    {
     "data": {
      "image/png": "[encoded data removed]",
      "text/plain": [
       "<Figure size 432x288 with 1 Axes>"
      ]
     },
     "metadata": {
      "needs_background": "light"
     },
     "output_type": "display_data"
    }
   ],
   "source": [
    "sns.boxplot(x=merged_df['Floors'])"
   ]
  },
  {
   "cell_type": "code",
   "execution_count": 35,
   "id": "1a902cb0",
   "metadata": {},
   "outputs": [
    {
     "data": {
      "text/plain": [
       "<AxesSubplot:xlabel='Parking'>"
      ]
     },
     "execution_count": 35,
     "metadata": {},
     "output_type": "execute_result"
    },
    {
     "data": {
      "image/png": "[encoded data removed]",
      "text/plain": [
       "<Figure size 432x288 with 1 Axes>"
      ]
     },
     "metadata": {
      "needs_background": "light"
     },
     "output_type": "display_data"
    }
   ],
   "source": [
    "sns.boxplot(x=merged_df['Parking'])"
   ]
  },
  {
   "cell_type": "code",
   "execution_count": 36,
   "id": "ebd3d1db",
   "metadata": {},
   "outputs": [
    {
     "data": {
      "text/plain": [
       "<AxesSubplot:xlabel='Amenities'>"
      ]
     },
     "execution_count": 36,
     "metadata": {},
     "output_type": "execute_result"
    },
    {
     "data": {
      "image/png": "[encoded data removed]",
      "text/plain": [
       "<Figure size 432x288 with 1 Axes>"
      ]
     },
     "metadata": {
      "needs_background": "light"
     },
     "output_type": "display_data"
    }
   ],
   "source": [
    "sns.boxplot(x=merged_df['Amenities'])"
   ]
  },
  {
   "cell_type": "code",
   "execution_count": 37,
   "id": "c7ff1a31",
   "metadata": {},
   "outputs": [
    {
     "data": {
      "text/plain": [
       "<AxesSubplot:xlabel='Floors'>"
      ]
     },
     "execution_count": 37,
     "metadata": {},
     "output_type": "execute_result"
    },
    {
     "data": {
      "image/png": "[encoded data removed]",
      "text/plain": [
       "<Figure size 432x288 with 1 Axes>"
      ]
     },
     "metadata": {
      "needs_background": "light"
     },
     "output_type": "display_data"
    }
   ],
   "source": [
    "sns.boxplot(x=merged_df['Floors'])"
   ]
  },
  {
   "cell_type": "code",
   "execution_count": 38,
   "id": "85bf6fd7",
   "metadata": {},
   "outputs": [
    {
     "data": {
      "text/plain": [
       "<AxesSubplot:xlabel='Year'>"
      ]
     },
     "execution_count": 38,
     "metadata": {},
     "output_type": "execute_result"
    },
    {
     "data": {
      "image/png": "[encoded data removed]",
      "text/plain": [
       "<Figure size 432x288 with 1 Axes>"
      ]
     },
     "metadata": {
      "needs_background": "light"
     },
     "output_type": "display_data"
    }
   ],
   "source": [
    "sns.boxplot(x=merged_df['Year'])"
   ]
  },
  {
   "cell_type": "code",
   "execution_count": 39,
   "id": "b731292b",
   "metadata": {},
   "outputs": [
    {
     "data": {
      "text/plain": [
       "<AxesSubplot:xlabel='Build Area'>"
      ]
     },
     "execution_count": 39,
     "metadata": {},
     "output_type": "execute_result"
    },
    {
     "data": {
      "image/png": "[encoded data removed]",
      "text/plain": [
       "<Figure size 432x288 with 1 Axes>"
      ]
     },
     "metadata": {
      "needs_background": "light"
     },
     "output_type": "display_data"
    }
   ],
   "source": [
    "sns.boxplot(x=merged_df['Build Area'])"
   ]
  },
  {
   "cell_type": "code",
   "execution_count": 40,
   "id": "ad8d6079",
   "metadata": {},
   "outputs": [
    {
     "data": {
      "text/plain": [
       "Index(['Address', 'City', 'Price', 'Bedroom', 'Bathroom', 'Floors', 'Parking',\n",
       "       'Face', 'Year', 'Area', 'Road Width', 'Road Type', 'Build Area',\n",
       "       'Amenities'],\n",
       "      dtype='object')"
      ]
     },
     "execution_count": 40,
     "metadata": {},
     "output_type": "execute_result"
    }
   ],
   "source": [
    "merged_df = merged_df[(merged_df.Bedroom < 20) & (merged_df.Bathroom < 10)]\n",
    "# merged_df = merged_df[(merged_df['Build Area'] < 2000000)]\n",
    "merged_df.columns"
   ]
  },
  {
   "cell_type": "code",
   "execution_count": 41,
   "id": "fdbe918d",
   "metadata": {},
   "outputs": [],
   "source": [
    "# khmkv1"
   ]
  },
  {
   "cell_type": "code",
   "execution_count": 42,
   "id": "897bb46c",
   "metadata": {
    "scrolled": true
   },
   "outputs": [
    {
     "data": {
      "text/html": [
       "<div>\n",
       "<style scoped>\n",
       "    .dataframe tbody tr th:only-of-type {\n",
       "        vertical-align: middle;\n",
       "    }\n",
       "\n",
       "    .dataframe tbody tr th {\n",
       "        vertical-align: top;\n",
       "    }\n",
       "\n",
       "    .dataframe thead th {\n",
       "        text-align: right;\n",
       "    }\n",
       "</style>\n",
       "<table border=\"1\" class=\"dataframe\">\n",
       "  <thead>\n",
       "    <tr style=\"text-align: right;\">\n",
       "      <th></th>\n",
       "      <th>Address</th>\n",
       "      <th>City</th>\n",
       "      <th>Price</th>\n",
       "      <th>Bedroom</th>\n",
       "      <th>Bathroom</th>\n",
       "      <th>Floors</th>\n",
       "      <th>Parking</th>\n",
       "      <th>Face</th>\n",
       "      <th>Year</th>\n",
       "      <th>Area</th>\n",
       "      <th>Road Width</th>\n",
       "      <th>Road Type</th>\n",
       "      <th>Build Area</th>\n",
       "      <th>Amenities</th>\n",
       "    </tr>\n",
       "  </thead>\n",
       "  <tbody>\n",
       "    <tr>\n",
       "      <th>0</th>\n",
       "      <td>Budhanilkantha</td>\n",
       "      <td>Kathmandu</td>\n",
       "      <td>90000000</td>\n",
       "      <td>6</td>\n",
       "      <td>3</td>\n",
       "      <td>2.0</td>\n",
       "      <td>10</td>\n",
       "      <td>West</td>\n",
       "      <td>2073.0</td>\n",
       "      <td>5476.000</td>\n",
       "      <td>20.0</td>\n",
       "      <td>Blacktopped</td>\n",
       "      <td>98568.000</td>\n",
       "      <td>16</td>\n",
       "    </tr>\n",
       "    <tr>\n",
       "      <th>1</th>\n",
       "      <td>Budhanilkantha</td>\n",
       "      <td>Kathmandu</td>\n",
       "      <td>80000000</td>\n",
       "      <td>5</td>\n",
       "      <td>3</td>\n",
       "      <td>2.0</td>\n",
       "      <td>9</td>\n",
       "      <td>East</td>\n",
       "      <td>2073.0</td>\n",
       "      <td>7187.250</td>\n",
       "      <td>20.0</td>\n",
       "      <td>Blacktopped</td>\n",
       "      <td>7187.250</td>\n",
       "      <td>15</td>\n",
       "    </tr>\n",
       "    <tr>\n",
       "      <th>2</th>\n",
       "      <td>Dhapasi</td>\n",
       "      <td>Kathmandu</td>\n",
       "      <td>70000000</td>\n",
       "      <td>5</td>\n",
       "      <td>3</td>\n",
       "      <td>2.0</td>\n",
       "      <td>12</td>\n",
       "      <td>East</td>\n",
       "      <td>2071.0</td>\n",
       "      <td>5818.250</td>\n",
       "      <td>20.0</td>\n",
       "      <td>Blacktopped</td>\n",
       "      <td>55102.250</td>\n",
       "      <td>16</td>\n",
       "    </tr>\n",
       "    <tr>\n",
       "      <th>5</th>\n",
       "      <td>Budhanilkantha</td>\n",
       "      <td>Kathmandu</td>\n",
       "      <td>50000000</td>\n",
       "      <td>5</td>\n",
       "      <td>4</td>\n",
       "      <td>2.0</td>\n",
       "      <td>9</td>\n",
       "      <td>East</td>\n",
       "      <td>2073.0</td>\n",
       "      <td>20963.000</td>\n",
       "      <td>20.0</td>\n",
       "      <td>Blacktopped</td>\n",
       "      <td>20963.000</td>\n",
       "      <td>16</td>\n",
       "    </tr>\n",
       "    <tr>\n",
       "      <th>7</th>\n",
       "      <td>Other</td>\n",
       "      <td>Kathmandu</td>\n",
       "      <td>32500000</td>\n",
       "      <td>6</td>\n",
       "      <td>4</td>\n",
       "      <td>2.5</td>\n",
       "      <td>1</td>\n",
       "      <td>South East</td>\n",
       "      <td>2065.0</td>\n",
       "      <td>1369.000</td>\n",
       "      <td>12.0</td>\n",
       "      <td>Concrete</td>\n",
       "      <td>819346.500</td>\n",
       "      <td>13</td>\n",
       "    </tr>\n",
       "    <tr>\n",
       "      <th>...</th>\n",
       "      <td>...</td>\n",
       "      <td>...</td>\n",
       "      <td>...</td>\n",
       "      <td>...</td>\n",
       "      <td>...</td>\n",
       "      <td>...</td>\n",
       "      <td>...</td>\n",
       "      <td>...</td>\n",
       "      <td>...</td>\n",
       "      <td>...</td>\n",
       "      <td>...</td>\n",
       "      <td>...</td>\n",
       "      <td>...</td>\n",
       "      <td>...</td>\n",
       "    </tr>\n",
       "    <tr>\n",
       "      <th>1638</th>\n",
       "      <td>Other</td>\n",
       "      <td>Others</td>\n",
       "      <td>6400000</td>\n",
       "      <td>3</td>\n",
       "      <td>1</td>\n",
       "      <td>1.0</td>\n",
       "      <td>0</td>\n",
       "      <td>North</td>\n",
       "      <td>2074.0</td>\n",
       "      <td>133.350</td>\n",
       "      <td>15.0</td>\n",
       "      <td>Soil Stabilized</td>\n",
       "      <td>133.350</td>\n",
       "      <td>4</td>\n",
       "    </tr>\n",
       "    <tr>\n",
       "      <th>1639</th>\n",
       "      <td>Other</td>\n",
       "      <td>Others</td>\n",
       "      <td>2200000</td>\n",
       "      <td>0</td>\n",
       "      <td>0</td>\n",
       "      <td>3.0</td>\n",
       "      <td>0</td>\n",
       "      <td>North</td>\n",
       "      <td>2074.0</td>\n",
       "      <td>23137.000</td>\n",
       "      <td>20.0</td>\n",
       "      <td>Gravelled</td>\n",
       "      <td>23137.000</td>\n",
       "      <td>0</td>\n",
       "    </tr>\n",
       "    <tr>\n",
       "      <th>1640</th>\n",
       "      <td>Other</td>\n",
       "      <td>Others</td>\n",
       "      <td>25000000</td>\n",
       "      <td>10</td>\n",
       "      <td>4</td>\n",
       "      <td>3.0</td>\n",
       "      <td>0</td>\n",
       "      <td>East</td>\n",
       "      <td>2074.0</td>\n",
       "      <td>155.575</td>\n",
       "      <td>20.0</td>\n",
       "      <td>Gravelled</td>\n",
       "      <td>155.575</td>\n",
       "      <td>6</td>\n",
       "    </tr>\n",
       "    <tr>\n",
       "      <th>1641</th>\n",
       "      <td>Other</td>\n",
       "      <td>Others</td>\n",
       "      <td>10000000</td>\n",
       "      <td>0</td>\n",
       "      <td>0</td>\n",
       "      <td>3.0</td>\n",
       "      <td>0</td>\n",
       "      <td>East</td>\n",
       "      <td>2074.0</td>\n",
       "      <td>21305.250</td>\n",
       "      <td>25.0</td>\n",
       "      <td>None</td>\n",
       "      <td>21305.250</td>\n",
       "      <td>0</td>\n",
       "    </tr>\n",
       "    <tr>\n",
       "      <th>1642</th>\n",
       "      <td>Other</td>\n",
       "      <td>Others</td>\n",
       "      <td>350000</td>\n",
       "      <td>0</td>\n",
       "      <td>0</td>\n",
       "      <td>3.0</td>\n",
       "      <td>0</td>\n",
       "      <td>North</td>\n",
       "      <td>2074.0</td>\n",
       "      <td>5476.000</td>\n",
       "      <td>16.0</td>\n",
       "      <td>None</td>\n",
       "      <td>5476.000</td>\n",
       "      <td>0</td>\n",
       "    </tr>\n",
       "  </tbody>\n",
       "</table>\n",
       "<p>1607 rows × 14 columns</p>\n",
       "</div>"
      ],
      "text/plain": [
       "             Address       City     Price  Bedroom  Bathroom  Floors  Parking  \\\n",
       "0     Budhanilkantha  Kathmandu  90000000        6         3     2.0       10   \n",
       "1     Budhanilkantha  Kathmandu  80000000        5         3     2.0        9   \n",
       "2            Dhapasi  Kathmandu  70000000        5         3     2.0       12   \n",
       "5     Budhanilkantha  Kathmandu  50000000        5         4     2.0        9   \n",
       "7              Other  Kathmandu  32500000        6         4     2.5        1   \n",
       "...              ...        ...       ...      ...       ...     ...      ...   \n",
       "1638           Other     Others   6400000        3         1     1.0        0   \n",
       "1639           Other     Others   2200000        0         0     3.0        0   \n",
       "1640           Other     Others  25000000       10         4     3.0        0   \n",
       "1641           Other     Others  10000000        0         0     3.0        0   \n",
       "1642           Other     Others    350000        0         0     3.0        0   \n",
       "\n",
       "            Face    Year       Area  Road Width         Road Type  Build Area  \\\n",
       "0           West  2073.0   5476.000        20.0       Blacktopped   98568.000   \n",
       "1           East  2073.0   7187.250        20.0       Blacktopped    7187.250   \n",
       "2           East  2071.0   5818.250        20.0       Blacktopped   55102.250   \n",
       "5           East  2073.0  20963.000        20.0       Blacktopped   20963.000   \n",
       "7     South East  2065.0   1369.000        12.0          Concrete  819346.500   \n",
       "...          ...     ...        ...         ...               ...         ...   \n",
       "1638       North  2074.0    133.350        15.0   Soil Stabilized     133.350   \n",
       "1639       North  2074.0  23137.000        20.0         Gravelled   23137.000   \n",
       "1640        East  2074.0    155.575        20.0         Gravelled     155.575   \n",
       "1641        East  2074.0  21305.250        25.0              None   21305.250   \n",
       "1642       North  2074.0   5476.000        16.0              None    5476.000   \n",
       "\n",
       "      Amenities  \n",
       "0            16  \n",
       "1            15  \n",
       "2            16  \n",
       "5            16  \n",
       "7            13  \n",
       "...         ...  \n",
       "1638          4  \n",
       "1639          0  \n",
       "1640          6  \n",
       "1641          0  \n",
       "1642          0  \n",
       "\n",
       "[1607 rows x 14 columns]"
      ]
     },
     "execution_count": 42,
     "metadata": {},
     "output_type": "execute_result"
    }
   ],
   "source": [
    "merged_df"
   ]
  },
  {
   "cell_type": "code",
   "execution_count": 43,
   "id": "bb8d18dc",
   "metadata": {},
   "outputs": [],
   "source": [
    "# merged_df.to_csv('new_cat_processed_data.csv', index=False)"
   ]
  },
  {
   "cell_type": "code",
   "execution_count": 44,
   "id": "321f0417",
   "metadata": {},
   "outputs": [],
   "source": [
    "one_hot_city = pd.get_dummies(merged_df['City'], prefix='City')\n",
    "one_hot_address = pd.get_dummies(merged_df['Address'], prefix='Address')\n",
    "one_hot_face = pd.get_dummies(merged_df['Face'], prefix='Face')\n",
    "one_hot_road_type = pd.get_dummies(merged_df['Road Type'], prefix='Road Type')\n",
    "\n",
    "# Add the new columns to the original dataframe\n",
    "# merged_df = pd.concat([merged_df, one_hot_city, one_hot_address, one_hot_face], axis=1)\n",
    "merged_df = pd.concat([merged_df, one_hot_city, one_hot_address, one_hot_face, one_hot_road_type], axis=1)\n",
    "# df = pd.concat([df, one_hot_city, one_hot_face, one_hot_road_type], axis=1)\n",
    "\n",
    "# Remove the original columns\n",
    "merged_df.drop(['City', 'Address', 'Face', 'Road Type'], axis=1, inplace=True)"
   ]
  },
  {
   "cell_type": "code",
   "execution_count": 45,
   "id": "747674c7",
   "metadata": {},
   "outputs": [
    {
     "data": {
      "text/html": [
       "<div>\n",
       "<style scoped>\n",
       "    .dataframe tbody tr th:only-of-type {\n",
       "        vertical-align: middle;\n",
       "    }\n",
       "\n",
       "    .dataframe tbody tr th {\n",
       "        vertical-align: top;\n",
       "    }\n",
       "\n",
       "    .dataframe thead th {\n",
       "        text-align: right;\n",
       "    }\n",
       "</style>\n",
       "<table border=\"1\" class=\"dataframe\">\n",
       "  <thead>\n",
       "    <tr style=\"text-align: right;\">\n",
       "      <th></th>\n",
       "      <th>Price</th>\n",
       "      <th>Bedroom</th>\n",
       "      <th>Bathroom</th>\n",
       "      <th>Floors</th>\n",
       "      <th>Parking</th>\n",
       "      <th>Year</th>\n",
       "      <th>Area</th>\n",
       "      <th>Road Width</th>\n",
       "      <th>Build Area</th>\n",
       "      <th>Amenities</th>\n",
       "      <th>...</th>\n",
       "      <th>Face_South East</th>\n",
       "      <th>Face_South West</th>\n",
       "      <th>Face_West</th>\n",
       "      <th>Road Type_ Alley</th>\n",
       "      <th>Road Type_ Blacktopped</th>\n",
       "      <th>Road Type_ Concrete</th>\n",
       "      <th>Road Type_ Gravelled</th>\n",
       "      <th>Road Type_ Paved</th>\n",
       "      <th>Road Type_ Soil Stabilized</th>\n",
       "      <th>Road Type_None</th>\n",
       "    </tr>\n",
       "  </thead>\n",
       "  <tbody>\n",
       "    <tr>\n",
       "      <th>0</th>\n",
       "      <td>90000000</td>\n",
       "      <td>6</td>\n",
       "      <td>3</td>\n",
       "      <td>2.0</td>\n",
       "      <td>10</td>\n",
       "      <td>2073.0</td>\n",
       "      <td>5476.000</td>\n",
       "      <td>20.0</td>\n",
       "      <td>98568.000</td>\n",
       "      <td>16</td>\n",
       "      <td>...</td>\n",
       "      <td>0</td>\n",
       "      <td>0</td>\n",
       "      <td>1</td>\n",
       "      <td>0</td>\n",
       "      <td>1</td>\n",
       "      <td>0</td>\n",
       "      <td>0</td>\n",
       "      <td>0</td>\n",
       "      <td>0</td>\n",
       "      <td>0</td>\n",
       "    </tr>\n",
       "    <tr>\n",
       "      <th>1</th>\n",
       "      <td>80000000</td>\n",
       "      <td>5</td>\n",
       "      <td>3</td>\n",
       "      <td>2.0</td>\n",
       "      <td>9</td>\n",
       "      <td>2073.0</td>\n",
       "      <td>7187.250</td>\n",
       "      <td>20.0</td>\n",
       "      <td>7187.250</td>\n",
       "      <td>15</td>\n",
       "      <td>...</td>\n",
       "      <td>0</td>\n",
       "      <td>0</td>\n",
       "      <td>0</td>\n",
       "      <td>0</td>\n",
       "      <td>1</td>\n",
       "      <td>0</td>\n",
       "      <td>0</td>\n",
       "      <td>0</td>\n",
       "      <td>0</td>\n",
       "      <td>0</td>\n",
       "    </tr>\n",
       "    <tr>\n",
       "      <th>2</th>\n",
       "      <td>70000000</td>\n",
       "      <td>5</td>\n",
       "      <td>3</td>\n",
       "      <td>2.0</td>\n",
       "      <td>12</td>\n",
       "      <td>2071.0</td>\n",
       "      <td>5818.250</td>\n",
       "      <td>20.0</td>\n",
       "      <td>55102.250</td>\n",
       "      <td>16</td>\n",
       "      <td>...</td>\n",
       "      <td>0</td>\n",
       "      <td>0</td>\n",
       "      <td>0</td>\n",
       "      <td>0</td>\n",
       "      <td>1</td>\n",
       "      <td>0</td>\n",
       "      <td>0</td>\n",
       "      <td>0</td>\n",
       "      <td>0</td>\n",
       "      <td>0</td>\n",
       "    </tr>\n",
       "    <tr>\n",
       "      <th>5</th>\n",
       "      <td>50000000</td>\n",
       "      <td>5</td>\n",
       "      <td>4</td>\n",
       "      <td>2.0</td>\n",
       "      <td>9</td>\n",
       "      <td>2073.0</td>\n",
       "      <td>20963.000</td>\n",
       "      <td>20.0</td>\n",
       "      <td>20963.000</td>\n",
       "      <td>16</td>\n",
       "      <td>...</td>\n",
       "      <td>0</td>\n",
       "      <td>0</td>\n",
       "      <td>0</td>\n",
       "      <td>0</td>\n",
       "      <td>1</td>\n",
       "      <td>0</td>\n",
       "      <td>0</td>\n",
       "      <td>0</td>\n",
       "      <td>0</td>\n",
       "      <td>0</td>\n",
       "    </tr>\n",
       "    <tr>\n",
       "      <th>7</th>\n",
       "      <td>32500000</td>\n",
       "      <td>6</td>\n",
       "      <td>4</td>\n",
       "      <td>2.5</td>\n",
       "      <td>1</td>\n",
       "      <td>2065.0</td>\n",
       "      <td>1369.000</td>\n",
       "      <td>12.0</td>\n",
       "      <td>819346.500</td>\n",
       "      <td>13</td>\n",
       "      <td>...</td>\n",
       "      <td>1</td>\n",
       "      <td>0</td>\n",
       "      <td>0</td>\n",
       "      <td>0</td>\n",
       "      <td>0</td>\n",
       "      <td>1</td>\n",
       "      <td>0</td>\n",
       "      <td>0</td>\n",
       "      <td>0</td>\n",
       "      <td>0</td>\n",
       "    </tr>\n",
       "    <tr>\n",
       "      <th>...</th>\n",
       "      <td>...</td>\n",
       "      <td>...</td>\n",
       "      <td>...</td>\n",
       "      <td>...</td>\n",
       "      <td>...</td>\n",
       "      <td>...</td>\n",
       "      <td>...</td>\n",
       "      <td>...</td>\n",
       "      <td>...</td>\n",
       "      <td>...</td>\n",
       "      <td>...</td>\n",
       "      <td>...</td>\n",
       "      <td>...</td>\n",
       "      <td>...</td>\n",
       "      <td>...</td>\n",
       "      <td>...</td>\n",
       "      <td>...</td>\n",
       "      <td>...</td>\n",
       "      <td>...</td>\n",
       "      <td>...</td>\n",
       "      <td>...</td>\n",
       "    </tr>\n",
       "    <tr>\n",
       "      <th>1638</th>\n",
       "      <td>6400000</td>\n",
       "      <td>3</td>\n",
       "      <td>1</td>\n",
       "      <td>1.0</td>\n",
       "      <td>0</td>\n",
       "      <td>2074.0</td>\n",
       "      <td>133.350</td>\n",
       "      <td>15.0</td>\n",
       "      <td>133.350</td>\n",
       "      <td>4</td>\n",
       "      <td>...</td>\n",
       "      <td>0</td>\n",
       "      <td>0</td>\n",
       "      <td>0</td>\n",
       "      <td>0</td>\n",
       "      <td>0</td>\n",
       "      <td>0</td>\n",
       "      <td>0</td>\n",
       "      <td>0</td>\n",
       "      <td>1</td>\n",
       "      <td>0</td>\n",
       "    </tr>\n",
       "    <tr>\n",
       "      <th>1639</th>\n",
       "      <td>2200000</td>\n",
       "      <td>0</td>\n",
       "      <td>0</td>\n",
       "      <td>3.0</td>\n",
       "      <td>0</td>\n",
       "      <td>2074.0</td>\n",
       "      <td>23137.000</td>\n",
       "      <td>20.0</td>\n",
       "      <td>23137.000</td>\n",
       "      <td>0</td>\n",
       "      <td>...</td>\n",
       "      <td>0</td>\n",
       "      <td>0</td>\n",
       "      <td>0</td>\n",
       "      <td>0</td>\n",
       "      <td>0</td>\n",
       "      <td>0</td>\n",
       "      <td>1</td>\n",
       "      <td>0</td>\n",
       "      <td>0</td>\n",
       "      <td>0</td>\n",
       "    </tr>\n",
       "    <tr>\n",
       "      <th>1640</th>\n",
       "      <td>25000000</td>\n",
       "      <td>10</td>\n",
       "      <td>4</td>\n",
       "      <td>3.0</td>\n",
       "      <td>0</td>\n",
       "      <td>2074.0</td>\n",
       "      <td>155.575</td>\n",
       "      <td>20.0</td>\n",
       "      <td>155.575</td>\n",
       "      <td>6</td>\n",
       "      <td>...</td>\n",
       "      <td>0</td>\n",
       "      <td>0</td>\n",
       "      <td>0</td>\n",
       "      <td>0</td>\n",
       "      <td>0</td>\n",
       "      <td>0</td>\n",
       "      <td>1</td>\n",
       "      <td>0</td>\n",
       "      <td>0</td>\n",
       "      <td>0</td>\n",
       "    </tr>\n",
       "    <tr>\n",
       "      <th>1641</th>\n",
       "      <td>10000000</td>\n",
       "      <td>0</td>\n",
       "      <td>0</td>\n",
       "      <td>3.0</td>\n",
       "      <td>0</td>\n",
       "      <td>2074.0</td>\n",
       "      <td>21305.250</td>\n",
       "      <td>25.0</td>\n",
       "      <td>21305.250</td>\n",
       "      <td>0</td>\n",
       "      <td>...</td>\n",
       "      <td>0</td>\n",
       "      <td>0</td>\n",
       "      <td>0</td>\n",
       "      <td>0</td>\n",
       "      <td>0</td>\n",
       "      <td>0</td>\n",
       "      <td>0</td>\n",
       "      <td>0</td>\n",
       "      <td>0</td>\n",
       "      <td>1</td>\n",
       "    </tr>\n",
       "    <tr>\n",
       "      <th>1642</th>\n",
       "      <td>350000</td>\n",
       "      <td>0</td>\n",
       "      <td>0</td>\n",
       "      <td>3.0</td>\n",
       "      <td>0</td>\n",
       "      <td>2074.0</td>\n",
       "      <td>5476.000</td>\n",
       "      <td>16.0</td>\n",
       "      <td>5476.000</td>\n",
       "      <td>0</td>\n",
       "      <td>...</td>\n",
       "      <td>0</td>\n",
       "      <td>0</td>\n",
       "      <td>0</td>\n",
       "      <td>0</td>\n",
       "      <td>0</td>\n",
       "      <td>0</td>\n",
       "      <td>0</td>\n",
       "      <td>0</td>\n",
       "      <td>0</td>\n",
       "      <td>1</td>\n",
       "    </tr>\n",
       "  </tbody>\n",
       "</table>\n",
       "<p>1607 rows × 50 columns</p>\n",
       "</div>"
      ],
      "text/plain": [
       "         Price  Bedroom  Bathroom  Floors  Parking    Year       Area  \\\n",
       "0     90000000        6         3     2.0       10  2073.0   5476.000   \n",
       "1     80000000        5         3     2.0        9  2073.0   7187.250   \n",
       "2     70000000        5         3     2.0       12  2071.0   5818.250   \n",
       "5     50000000        5         4     2.0        9  2073.0  20963.000   \n",
       "7     32500000        6         4     2.5        1  2065.0   1369.000   \n",
       "...        ...      ...       ...     ...      ...     ...        ...   \n",
       "1638   6400000        3         1     1.0        0  2074.0    133.350   \n",
       "1639   2200000        0         0     3.0        0  2074.0  23137.000   \n",
       "1640  25000000       10         4     3.0        0  2074.0    155.575   \n",
       "1641  10000000        0         0     3.0        0  2074.0  21305.250   \n",
       "1642    350000        0         0     3.0        0  2074.0   5476.000   \n",
       "\n",
       "      Road Width  Build Area  Amenities  ...  Face_South East  \\\n",
       "0           20.0   98568.000         16  ...                0   \n",
       "1           20.0    7187.250         15  ...                0   \n",
       "2           20.0   55102.250         16  ...                0   \n",
       "5           20.0   20963.000         16  ...                0   \n",
       "7           12.0  819346.500         13  ...                1   \n",
       "...          ...         ...        ...  ...              ...   \n",
       "1638        15.0     133.350          4  ...                0   \n",
       "1639        20.0   23137.000          0  ...                0   \n",
       "1640        20.0     155.575          6  ...                0   \n",
       "1641        25.0   21305.250          0  ...                0   \n",
       "1642        16.0    5476.000          0  ...                0   \n",
       "\n",
       "      Face_South West  Face_West  Road Type_ Alley  Road Type_ Blacktopped  \\\n",
       "0                   0          1                 0                       1   \n",
       "1                   0          0                 0                       1   \n",
       "2                   0          0                 0                       1   \n",
       "5                   0          0                 0                       1   \n",
       "7                   0          0                 0                       0   \n",
       "...               ...        ...               ...                     ...   \n",
       "1638                0          0                 0                       0   \n",
       "1639                0          0                 0                       0   \n",
       "1640                0          0                 0                       0   \n",
       "1641                0          0                 0                       0   \n",
       "1642                0          0                 0                       0   \n",
       "\n",
       "      Road Type_ Concrete  Road Type_ Gravelled  Road Type_ Paved  \\\n",
       "0                       0                     0                 0   \n",
       "1                       0                     0                 0   \n",
       "2                       0                     0                 0   \n",
       "5                       0                     0                 0   \n",
       "7                       1                     0                 0   \n",
       "...                   ...                   ...               ...   \n",
       "1638                    0                     0                 0   \n",
       "1639                    0                     1                 0   \n",
       "1640                    0                     1                 0   \n",
       "1641                    0                     0                 0   \n",
       "1642                    0                     0                 0   \n",
       "\n",
       "      Road Type_ Soil Stabilized  Road Type_None  \n",
       "0                              0               0  \n",
       "1                              0               0  \n",
       "2                              0               0  \n",
       "5                              0               0  \n",
       "7                              0               0  \n",
       "...                          ...             ...  \n",
       "1638                           1               0  \n",
       "1639                           0               0  \n",
       "1640                           0               0  \n",
       "1641                           0               1  \n",
       "1642                           0               1  \n",
       "\n",
       "[1607 rows x 50 columns]"
      ]
     },
     "execution_count": 45,
     "metadata": {},
     "output_type": "execute_result"
    }
   ],
   "source": [
    "merged_df"
   ]
  },
  {
   "cell_type": "code",
   "execution_count": 46,
   "id": "08eeda7f",
   "metadata": {},
   "outputs": [],
   "source": [
    "# merged_df.to_csv('new_processed_data.csv', index=False)"
   ]
  },
  {
   "cell_type": "code",
   "execution_count": 47,
   "id": "a0ab9d7a",
   "metadata": {},
   "outputs": [
    {
     "data": {
      "text/html": [
       "<div>\n",
       "<style scoped>\n",
       "    .dataframe tbody tr th:only-of-type {\n",
       "        vertical-align: middle;\n",
       "    }\n",
       "\n",
       "    .dataframe tbody tr th {\n",
       "        vertical-align: top;\n",
       "    }\n",
       "\n",
       "    .dataframe thead th {\n",
       "        text-align: right;\n",
       "    }\n",
       "</style>\n",
       "<table border=\"1\" class=\"dataframe\">\n",
       "  <thead>\n",
       "    <tr style=\"text-align: right;\">\n",
       "      <th></th>\n",
       "      <th>Bedroom</th>\n",
       "      <th>Bathroom</th>\n",
       "      <th>Floors</th>\n",
       "      <th>Parking</th>\n",
       "      <th>Year</th>\n",
       "      <th>Area</th>\n",
       "      <th>Road Width</th>\n",
       "      <th>Build Area</th>\n",
       "      <th>Amenities</th>\n",
       "      <th>City_Bhaktapur</th>\n",
       "      <th>...</th>\n",
       "      <th>Face_South East</th>\n",
       "      <th>Face_South West</th>\n",
       "      <th>Face_West</th>\n",
       "      <th>Road Type_ Alley</th>\n",
       "      <th>Road Type_ Blacktopped</th>\n",
       "      <th>Road Type_ Concrete</th>\n",
       "      <th>Road Type_ Gravelled</th>\n",
       "      <th>Road Type_ Paved</th>\n",
       "      <th>Road Type_ Soil Stabilized</th>\n",
       "      <th>Road Type_None</th>\n",
       "    </tr>\n",
       "  </thead>\n",
       "  <tbody>\n",
       "    <tr>\n",
       "      <th>0</th>\n",
       "      <td>6</td>\n",
       "      <td>3</td>\n",
       "      <td>2.0</td>\n",
       "      <td>10</td>\n",
       "      <td>2073.0</td>\n",
       "      <td>5476.00</td>\n",
       "      <td>20.0</td>\n",
       "      <td>98568.00</td>\n",
       "      <td>16</td>\n",
       "      <td>0</td>\n",
       "      <td>...</td>\n",
       "      <td>0</td>\n",
       "      <td>0</td>\n",
       "      <td>1</td>\n",
       "      <td>0</td>\n",
       "      <td>1</td>\n",
       "      <td>0</td>\n",
       "      <td>0</td>\n",
       "      <td>0</td>\n",
       "      <td>0</td>\n",
       "      <td>0</td>\n",
       "    </tr>\n",
       "    <tr>\n",
       "      <th>1</th>\n",
       "      <td>5</td>\n",
       "      <td>3</td>\n",
       "      <td>2.0</td>\n",
       "      <td>9</td>\n",
       "      <td>2073.0</td>\n",
       "      <td>7187.25</td>\n",
       "      <td>20.0</td>\n",
       "      <td>7187.25</td>\n",
       "      <td>15</td>\n",
       "      <td>0</td>\n",
       "      <td>...</td>\n",
       "      <td>0</td>\n",
       "      <td>0</td>\n",
       "      <td>0</td>\n",
       "      <td>0</td>\n",
       "      <td>1</td>\n",
       "      <td>0</td>\n",
       "      <td>0</td>\n",
       "      <td>0</td>\n",
       "      <td>0</td>\n",
       "      <td>0</td>\n",
       "    </tr>\n",
       "    <tr>\n",
       "      <th>2</th>\n",
       "      <td>5</td>\n",
       "      <td>3</td>\n",
       "      <td>2.0</td>\n",
       "      <td>12</td>\n",
       "      <td>2071.0</td>\n",
       "      <td>5818.25</td>\n",
       "      <td>20.0</td>\n",
       "      <td>55102.25</td>\n",
       "      <td>16</td>\n",
       "      <td>0</td>\n",
       "      <td>...</td>\n",
       "      <td>0</td>\n",
       "      <td>0</td>\n",
       "      <td>0</td>\n",
       "      <td>0</td>\n",
       "      <td>1</td>\n",
       "      <td>0</td>\n",
       "      <td>0</td>\n",
       "      <td>0</td>\n",
       "      <td>0</td>\n",
       "      <td>0</td>\n",
       "    </tr>\n",
       "  </tbody>\n",
       "</table>\n",
       "<p>3 rows × 49 columns</p>\n",
       "</div>"
      ],
      "text/plain": [
       "   Bedroom  Bathroom  Floors  Parking    Year     Area  Road Width  \\\n",
       "0        6         3     2.0       10  2073.0  5476.00        20.0   \n",
       "1        5         3     2.0        9  2073.0  7187.25        20.0   \n",
       "2        5         3     2.0       12  2071.0  5818.25        20.0   \n",
       "\n",
       "   Build Area  Amenities  City_Bhaktapur  ...  Face_South East  \\\n",
       "0    98568.00         16               0  ...                0   \n",
       "1     7187.25         15               0  ...                0   \n",
       "2    55102.25         16               0  ...                0   \n",
       "\n",
       "   Face_South West  Face_West  Road Type_ Alley  Road Type_ Blacktopped  \\\n",
       "0                0          1                 0                       1   \n",
       "1                0          0                 0                       1   \n",
       "2                0          0                 0                       1   \n",
       "\n",
       "   Road Type_ Concrete  Road Type_ Gravelled  Road Type_ Paved  \\\n",
       "0                    0                     0                 0   \n",
       "1                    0                     0                 0   \n",
       "2                    0                     0                 0   \n",
       "\n",
       "   Road Type_ Soil Stabilized  Road Type_None  \n",
       "0                           0               0  \n",
       "1                           0               0  \n",
       "2                           0               0  \n",
       "\n",
       "[3 rows x 49 columns]"
      ]
     },
     "execution_count": 47,
     "metadata": {},
     "output_type": "execute_result"
    }
   ],
   "source": [
    "X = merged_df.drop(['Price'],axis='columns')\n",
    "# X = merged_df.drop(['Price','Pricepersqft','Road Width'],axis='columns')\n",
    "X.head(3)"
   ]
  },
  {
   "cell_type": "code",
   "execution_count": 48,
   "id": "12335c35",
   "metadata": {},
   "outputs": [
    {
     "data": {
      "text/plain": [
       "0    90000000\n",
       "1    80000000\n",
       "2    70000000\n",
       "Name: Price, dtype: int64"
      ]
     },
     "execution_count": 48,
     "metadata": {},
     "output_type": "execute_result"
    }
   ],
   "source": [
    "y = merged_df.Price\n",
    "y.head(3)"
   ]
  },
  {
   "cell_type": "code",
   "execution_count": 49,
   "id": "3880a2b1",
   "metadata": {},
   "outputs": [],
   "source": [
    "from sklearn.model_selection import train_test_split\n",
    "X_train, X_test, y_train, y_test = train_test_split(X,y,test_size=0.2,random_state=10)\n",
    "from sklearn.preprocessing import StandardScaler as SS\n",
    "sc = SS()\n",
    "X_train = sc.fit_transform(X_train)\n",
    "X_test = sc.transform(X_test)"
   ]
  },
  {
   "cell_type": "code",
   "execution_count": 50,
   "id": "4ea03a69",
   "metadata": {},
   "outputs": [
    {
     "name": "stdout",
     "output_type": "stream",
     "text": [
      "Parameters currently in use:\n",
      "\n",
      "{'bootstrap': True,\n",
      " 'ccp_alpha': 0.0,\n",
      " 'criterion': 'squared_error',\n",
      " 'max_depth': None,\n",
      " 'max_features': 'auto',\n",
      " 'max_leaf_nodes': None,\n",
      " 'max_samples': None,\n",
      " 'min_impurity_decrease': 0.0,\n",
      " 'min_samples_leaf': 1,\n",
      " 'min_samples_split': 2,\n",
      " 'min_weight_fraction_leaf': 0.0,\n",
      " 'n_estimators': 100,\n",
      " 'n_jobs': None,\n",
      " 'oob_score': False,\n",
      " 'random_state': 42,\n",
      " 'verbose': 0,\n",
      " 'warm_start': False}\n"
     ]
    }
   ],
   "source": [
    "from sklearn.ensemble import RandomForestRegressor\n",
    "rf = RandomForestRegressor(random_state = 42)\n",
    "from pprint import pprint\n",
    "# Look at parameters used by our current forest\n",
    "print('Parameters currently in use:\\n')\n",
    "pprint(rf.get_params())"
   ]
  },
  {
   "cell_type": "code",
   "execution_count": 51,
   "id": "06447226",
   "metadata": {},
   "outputs": [
    {
     "name": "stdout",
     "output_type": "stream",
     "text": [
      "{'bootstrap': [True, False],\n",
      " 'max_depth': [10, 20, 30, 40, 50, 60, 70, 80, 90, 100, 110, None],\n",
      " 'max_features': ['auto', 'sqrt'],\n",
      " 'min_samples_leaf': [1, 2, 4],\n",
      " 'min_samples_split': [2, 5, 10],\n",
      " 'n_estimators': [200, 400, 600, 800, 1000, 1200, 1400, 1600, 1800, 2000]}\n"
     ]
    }
   ],
   "source": [
    "from sklearn.model_selection import RandomizedSearchCV\n",
    "# Number of trees in random forest\n",
    "n_estimators = [int(x) for x in np.linspace(start = 200, stop = 2000, num = 10)]\n",
    "# Number of features to consider at every split\n",
    "max_features = ['auto', 'sqrt']\n",
    "# Maximum number of levels in tree\n",
    "max_depth = [int(x) for x in np.linspace(10, 110, num = 11)]\n",
    "max_depth.append(None)\n",
    "# Minimum number of samples required to split a node\n",
    "min_samples_split = [2, 5, 10]\n",
    "# Minimum number of samples required at each leaf node\n",
    "min_samples_leaf = [1, 2, 4]\n",
    "# Method of selecting samples for training each tree\n",
    "bootstrap = [True, False]\n",
    "# Create the random grid\n",
    "random_grid = {'n_estimators': n_estimators,\n",
    "               'max_features': max_features,\n",
    "               'max_depth': max_depth,\n",
    "               'min_samples_split': min_samples_split,\n",
    "               'min_samples_leaf': min_samples_leaf,\n",
    "               'bootstrap': bootstrap}\n",
    "pprint(random_grid)"
   ]
  },
  {
   "cell_type": "code",
   "execution_count": 52,
   "id": "94c2065a",
   "metadata": {},
   "outputs": [],
   "source": [
    "# # Use the random grid to search for best hyperparameters\n",
    "# # First create the base model to tune\n",
    "# rf = RandomForestRegressor()\n",
    "# # Random search of parameters, using 3 fold cross validation, \n",
    "# # search across 100 different combinations, and use all available cores\n",
    "# rf_random = RandomizedSearchCV(estimator = rf, param_distributions = random_grid, n_iter = 100, cv = 3, verbose=2, random_state=42, n_jobs = -1)\n",
    "# # Fit the random search model\n",
    "# rf_random.fit(X,y)"
   ]
  },
  {
   "cell_type": "code",
   "execution_count": 53,
   "id": "a8631781",
   "metadata": {},
   "outputs": [],
   "source": [
    "# best_params = rf_random.best_params_\n",
    "# print(\"Best hyperparameters:\", best_params)"
   ]
  },
  {
   "cell_type": "code",
   "execution_count": 54,
   "id": "54dd6b77",
   "metadata": {},
   "outputs": [
    {
     "data": {
      "text/plain": [
       "0.8036291333128064"
      ]
     },
     "execution_count": 54,
     "metadata": {},
     "output_type": "execute_result"
    }
   ],
   "source": [
    "from sklearn.ensemble import RandomForestRegressor\n",
    "# rf = RandomForestRegressor(bootstrap = True, max_depth= 10, max_features = 'auto',\n",
    "#  min_samples_leaf = 4,\n",
    "#  min_samples_split = 5,\n",
    "#  n_estimators = 200)\n",
    "rf = RandomForestRegressor(bootstrap = False, max_depth= None, max_features = 'sqrt',\n",
    " min_samples_leaf = 2,\n",
    " min_samples_split = 5,\n",
    " n_estimators = 1400)\n",
    "# rf = RandomForestRegressor(bootstrap = True, max_depth= 10, max_features = 'auto',\n",
    "#  min_samples_leaf = 1,\n",
    "#  min_samples_split = 5,\n",
    "#  n_estimators = 1600)\n",
    "\n",
    "rf.fit(X_train,y_train)\n",
    "rf.score(X_test,y_test)"
   ]
  },
  {
   "cell_type": "code",
   "execution_count": 65,
   "id": "1c41feb4",
   "metadata": {},
   "outputs": [
    {
     "name": "stdout",
     "output_type": "stream",
     "text": [
      "Best parameters:  {'learning_rate': 0.039122914019804195, 'max_depth': 5, 'max_features': 'log2', 'min_samples_leaf': 2, 'min_samples_split': 5, 'n_estimators': 575}\n",
      "Best score:  101902227026057.84\n",
      "MSE:  58734615829794.53\n"
     ]
    }
   ],
   "source": [
    "from sklearn.ensemble import GradientBoostingRegressor\n",
    "from sklearn.model_selection import RandomizedSearchCV\n",
    "from sklearn.metrics import mean_squared_error\n",
    "from scipy.stats import randint, uniform\n",
    "\n",
    "# Define the parameter distribution for Random Search\n",
    "param_dist = {'learning_rate': uniform(0.01, 0.1),\n",
    "              'n_estimators': randint(100, 1000),\n",
    "              'max_depth': randint(3, 7),\n",
    "              'min_samples_split': randint(2, 6),\n",
    "              'min_samples_leaf': randint(1, 4),\n",
    "              'max_features': ['auto', 'sqrt', 'log2']}\n",
    "\n",
    "# Create an instance of Gradient Boosting Regressor\n",
    "gb = GradientBoostingRegressor()\n",
    "\n",
    "# Create an instance of RandomizedSearchCV\n",
    "random_search = RandomizedSearchCV(gb, param_distributions=param_dist, cv=5, n_jobs=-1, scoring='neg_mean_squared_error', n_iter=10, random_state=42)\n",
    "\n",
    "# Fit the Random Search model to the data\n",
    "random_search.fit(X_train, y_train)\n",
    "\n",
    "# Get the best parameters and best score\n",
    "print(\"Best parameters: \", random_search.best_params_)\n",
    "print(\"Best score: \", -random_search.best_score_)\n",
    "\n",
    "# Make predictions on test data using the best estimator\n",
    "y_pred = random_search.best_estimator_.predict(X_test)\n",
    "\n",
    "# Calculate mean squared error of the predictions\n",
    "mse = mean_squared_error(y_test, y_pred)\n",
    "print(\"MSE: \", mse)"
   ]
  },
  {
   "cell_type": "code",
   "execution_count": 66,
   "id": "765b4829",
   "metadata": {},
   "outputs": [
    {
     "name": "stdout",
     "output_type": "stream",
     "text": [
      "0.7907877755768937\n",
      "RMSE:  7849666.835386362\n"
     ]
    }
   ],
   "source": [
    "# Fit the Gradient Boosting Regressor with the best parameters\n",
    "best_gb = GradientBoostingRegressor(learning_rate=0.039122914019804195,\n",
    "                                max_depth=5,\n",
    "                                max_features='log2',\n",
    "                                min_samples_leaf=2,\n",
    "                                min_samples_split=5,\n",
    "                                n_estimators=575)\n",
    "best_gb.fit(X_train, y_train)\n",
    "print(best_gb.score(X_test,y_test))\n",
    "# Make predictions on the test set\n",
    "y_pred = best_gb.predict(X_test)\n",
    "\n",
    "# Calculate the RMSE\n",
    "rmse = np.sqrt(mean_squared_error(y_test, y_pred))\n",
    "print(\"RMSE: \", rmse)"
   ]
  },
  {
   "cell_type": "code",
   "execution_count": 56,
   "id": "ab679aa9",
   "metadata": {},
   "outputs": [],
   "source": [
    "feature_importance = rf.feature_importances_"
   ]
  },
  {
   "cell_type": "code",
   "execution_count": 57,
   "id": "f1eb349f",
   "metadata": {},
   "outputs": [
    {
     "name": "stdout",
     "output_type": "stream",
     "text": [
      "Index(['Bedroom', 'Bathroom', 'Floors', 'Parking', 'Year', 'Area',\n",
      "       'Road Width', 'Build Area', 'Amenities', 'City_Bhaktapur',\n",
      "       'City_Chitwan', 'City_Dharan', 'City_Kathmandu', 'City_Lalitpur',\n",
      "       'City_Makwanpur', 'City_Nawalparasi', 'City_Others', 'City_Pokhara',\n",
      "       'Address_Baluwatar', 'Address_Basundhara', 'Address_Bhaisepati',\n",
      "       'Address_Bhangal', 'Address_Budhanilkantha', 'Address_Chabahil',\n",
      "       'Address_Dhapasi', 'Address_Golfutar', 'Address_Hattigauda',\n",
      "       'Address_Imadol', 'Address_Jorpati', 'Address_Kapan', 'Address_Other',\n",
      "       'Address_Samakhusi', 'Address_Sitapaila', 'Address_Tokha', 'Face_East',\n",
      "       'Face_North', 'Face_North East', 'Face_North West', 'Face_South',\n",
      "       'Face_South East', 'Face_South West', 'Face_West', 'Road Type_ Alley',\n",
      "       'Road Type_ Blacktopped', 'Road Type_ Concrete', 'Road Type_ Gravelled',\n",
      "       'Road Type_ Paved', 'Road Type_ Soil Stabilized', 'Road Type_None'],\n",
      "      dtype='object')\n"
     ]
    }
   ],
   "source": [
    "feature_names = X.columns\n",
    "print(feature_names)"
   ]
  },
  {
   "cell_type": "code",
   "execution_count": 58,
   "id": "74894506",
   "metadata": {},
   "outputs": [
    {
     "data": {
      "image/png": "[encoded data removed]",
      "text/plain": [
       "<Figure size 1800x1200 with 1 Axes>"
      ]
     },
     "metadata": {
      "needs_background": "light"
     },
     "output_type": "display_data"
    }
   ],
   "source": [
    "import seaborn as sns\n",
    "# For plotting\n",
    "plt.rcParams['figure.dpi'] = 300\n",
    "column_names = ['Bedroom', 'Bathroom', 'Floors', 'Parking', 'Year', 'Area',\n",
    "       'Road Width', 'Build Area', 'Amenities', 'City_Bhaktapur',\n",
    "       'City_Chitwan', 'City_Dharan', 'City_Kathmandu', 'City_Lalitpur',\n",
    "       'City_Makwanpur', 'City_Nawalparasi', 'City_Others', 'City_Pokhara',\n",
    "       'Address_Baluwatar', 'Address_Basundhara', 'Address_Bhaisepati',\n",
    "       'Address_Bhangal', 'Address_Budhanilkantha', 'Address_Chabahil',\n",
    "       'Address_Dhapasi', 'Address_Golfutar', 'Address_Hattigauda',\n",
    "       'Address_Imadol', 'Address_Jorpati', 'Address_Kapan', 'Address_Other',\n",
    "       'Address_Samakhusi', 'Address_Sitapaila', 'Address_Tokha', 'Face_East',\n",
    "       'Face_North', 'Face_North East', 'Face_North West', 'Face_South',\n",
    "       'Face_South East', 'Face_South West', 'Face_West', 'Road Type_ Alley',\n",
    "       'Road Type_ Blacktopped', 'Road Type_ Concrete', 'Road Type_ Gravelled',\n",
    "       'Road Type_ Paved', 'Road Type_ Soil Stabilized', 'Road Type_None']\n",
    "zipped = zip(feature_importance, column_names)\n",
    "sorted_pairs = sorted(zipped)\n",
    "\n",
    "listl = [i for i,j in sorted_pairs]\n",
    "list2 = [j for i,j in sorted_pairs]\n",
    "\n",
    "g = sns.barplot(x=list2, y=listl)\n",
    "txt = g.set_xticklabels(g.get_xticklabels(), rotation = 90)"
   ]
  },
  {
   "cell_type": "code",
   "execution_count": 59,
   "id": "a8e007bc",
   "metadata": {},
   "outputs": [
    {
     "name": "stdout",
     "output_type": "stream",
     "text": [
      "Bedroom: 0.13624699872406137\n",
      "Bathroom: 0.18396177922995602\n",
      "Floors: 0.02486437650251445\n",
      "Parking: 0.10919218312566911\n",
      "Year: 0.029177688824541855\n",
      "Area: 0.08837786650068115\n",
      "Road Width: 0.027882117728025818\n",
      "Build Area: 0.0743831815501032\n",
      "Amenities: 0.20518864541891246\n",
      "City_Bhaktapur: 0.0009678968018363461\n",
      "City_Chitwan: 0.0005126731743558722\n",
      "City_Dharan: 1.3028115144325655e-05\n",
      "City_Kathmandu: 0.020450660860176047\n",
      "City_Lalitpur: 0.008817286129652793\n",
      "City_Makwanpur: 3.08638454518239e-05\n",
      "City_Nawalparasi: 0.00030281524875881894\n",
      "City_Others: 0.0022148604066659777\n",
      "City_Pokhara: 0.0009761516550940811\n",
      "Address_Baluwatar: 0.004623097344867645\n",
      "Address_Basundhara: 0.0014871269231496343\n",
      "Address_Bhaisepati: 0.0006267249086438903\n",
      "Address_Bhangal: 0.0002626375888004234\n",
      "Address_Budhanilkantha: 0.003216420293588837\n",
      "Address_Chabahil: 0.0003228827301999642\n",
      "Address_Dhapasi: 0.0020371339074526603\n",
      "Address_Golfutar: 0.0004886736492079706\n",
      "Address_Hattigauda: 0.0011326792312603634\n",
      "Address_Imadol: 0.0025948248797936667\n",
      "Address_Jorpati: 0.00042892203663293387\n",
      "Address_Kapan: 0.0007307994142583383\n",
      "Address_Other: 0.006811463140425828\n",
      "Address_Samakhusi: 0.0010193561258699637\n",
      "Address_Sitapaila: 0.0027231454258107948\n",
      "Address_Tokha: 0.000451661259290536\n",
      "Face_East: 0.0070011400257533555\n",
      "Face_North: 0.0029043173106494797\n",
      "Face_North East: 0.0026642671999363675\n",
      "Face_North West: 0.0009058960611694409\n",
      "Face_South: 0.004170444777076537\n",
      "Face_South East: 0.0026751156981441107\n",
      "Face_South West: 0.0011191318868288913\n",
      "Face_West: 0.003432697468768231\n",
      "Road Type_ Alley: 0.0\n",
      "Road Type_ Blacktopped: 0.015827453107926635\n",
      "Road Type_ Concrete: 0.0001589820498782912\n",
      "Road Type_ Gravelled: 0.00475573496453992\n",
      "Road Type_ Paved: 0.0010486975859284723\n",
      "Road Type_ Soil Stabilized: 0.006126698547357338\n",
      "Road Type_None: 0.004690800615187919\n"
     ]
    }
   ],
   "source": [
    "for feature, importance in zip(feature_names, feature_importance):\n",
    "    print(\"{}: {}\".format(feature, importance))"
   ]
  },
  {
   "cell_type": "code",
   "execution_count": null,
   "id": "363e8c0f",
   "metadata": {},
   "outputs": [],
   "source": []
  }
 ],
 "metadata": {
  "kernelspec": {
   "display_name": "Python 3 (ipykernel)",
   "language": "python",
   "name": "python3"
  },
  "language_info": {
   "codemirror_mode": {
    "name": "ipython",
    "version": 3
   },
   "file_extension": ".py",
   "mimetype": "text/x-python",
   "name": "python",
   "nbconvert_exporter": "python",
   "pygments_lexer": "ipython3",
   "version": "3.9.12"
  },
  "vscode": {
   "interpreter": {
    "hash": "a2ab3825ac7005fb7b26f112e9c99ae62f464c629e30b0d534c3b931b6cbc3ff"
   }
  }
 },
 "nbformat": 4,
 "nbformat_minor": 5
}
